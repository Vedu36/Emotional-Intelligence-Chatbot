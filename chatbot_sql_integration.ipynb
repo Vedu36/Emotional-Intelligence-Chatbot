{
 "cells": [
  {
   "cell_type": "code",
   "execution_count": 1,
   "id": "36f049cc",
   "metadata": {},
   "outputs": [],
   "source": [
    "import mysql.connector\n",
    "from getpass import getpass\n",
    "import hashlib\n",
    "from tensorflow.keras.models import load_model\n",
    "import numpy as np\n",
    "import nltk\n",
    "from nltk.tokenize import word_tokenize\n",
    "from nltk.stem import WordNetLemmatizer\n",
    "from nltk.corpus import stopwords\n",
    "from tensorflow.keras.preprocessing.text import Tokenizer\n",
    "from tensorflow.keras.preprocessing.sequence import pad_sequences\n",
    "from groq import Groq"
   ]
  },
  {
   "cell_type": "code",
   "execution_count": 2,
   "id": "d589714f",
   "metadata": {},
   "outputs": [
    {
     "name": "stderr",
     "output_type": "stream",
     "text": [
      "[nltk_data] Downloading package punkt to\n",
      "[nltk_data]     C:\\Users\\vedag\\AppData\\Roaming\\nltk_data...\n",
      "[nltk_data]   Package punkt is already up-to-date!\n",
      "[nltk_data] Downloading package stopwords to\n",
      "[nltk_data]     C:\\Users\\vedag\\AppData\\Roaming\\nltk_data...\n",
      "[nltk_data]   Package stopwords is already up-to-date!\n",
      "[nltk_data] Downloading package wordnet to\n",
      "[nltk_data]     C:\\Users\\vedag\\AppData\\Roaming\\nltk_data...\n",
      "[nltk_data]   Package wordnet is already up-to-date!\n"
     ]
    }
   ],
   "source": [
    "# Load NLTK resources\n",
    "nltk.download('punkt')\n",
    "nltk.download('stopwords')\n",
    "nltk.download('wordnet')\n",
    "\n",
    "stop_words = set(stopwords.words('english'))\n",
    "lemmatizer = WordNetLemmatizer()\n",
    "\n",
    "# Load the trained model\n",
    "model = load_model('emotion_classification_model.h5')"
   ]
  },
  {
   "cell_type": "code",
   "execution_count": 5,
   "id": "094fef3b",
   "metadata": {},
   "outputs": [],
   "source": [
    "# Example training texts (used to fit the tokenizer)\n",
    "texts = [\n",
    "    \"I feel really happy today!\",\n",
    "    \"This is terrible...\",\n",
    "    \"I love this!\",\n",
    "    \"I'm so angry right now.\",\n",
    "    \"This makes me scared.\",\n",
    "    \"Wow, I'm surprised!\"\n",
    "]\n",
    "\n",
    "tokenizer = Tokenizer(num_words=5000)\n",
    "tokenizer.fit_on_texts(texts)\n",
    "\n",
    "# Preprocessing function\n",
    "def preprocess_text(text):\n",
    "    tokens = word_tokenize(text)\n",
    "    tokens = [lemmatizer.lemmatize(token.lower()) for token in tokens if token.isalpha() and token not in stop_words]\n",
    "    return ' '.join(tokens)\n",
    "\n",
    "# Emotion prediction function\n",
    "def predict_emotion(text, tokenizer, model):\n",
    "    processed_text = preprocess_text(text)\n",
    "    sequence = tokenizer.texts_to_sequences([processed_text])\n",
    "    padded_sequence = pad_sequences(sequence, maxlen=40)\n",
    "    prediction = model.predict(padded_sequence)\n",
    "    emotion_index = np.argmax(prediction)\n",
    "    emotions = [\"joy\", \"sadness\", \"love\", \"anger\", \"fear\", \"surprise\"]\n",
    "    return emotions[emotion_index]\n"
   ]
  },
  {
   "cell_type": "markdown",
   "id": "5a86bcca",
   "metadata": {},
   "source": [
    "MySQL Integration"
   ]
  },
  {
   "cell_type": "code",
   "execution_count": 6,
   "id": "f615c22d",
   "metadata": {},
   "outputs": [],
   "source": [
    "def get_db_connection():\n",
    "    connection = mysql.connector.connect(\n",
    "        host=\"localhost\",\n",
    "        user=\"root\",\n",
    "        password=\"root\",\n",
    "        database=\"chatbot_db\"\n",
    "    )\n",
    "    return connection\n",
    "\n",
    "def create_user(username, password):\n",
    "    connection = get_db_connection()\n",
    "    cursor = connection.cursor()\n",
    "    hashed_password = hashlib.sha256(password.encode()).hexdigest()\n",
    "    cursor.execute(\"INSERT INTO users (username, password) VALUES (%s, %s)\", (username, hashed_password))\n",
    "    connection.commit()\n",
    "    cursor.close()\n",
    "    connection.close()\n",
    "\n",
    "def authenticate_user(username, password):\n",
    "    connection = get_db_connection()\n",
    "    cursor = connection.cursor()\n",
    "    hashed_password = hashlib.sha256(password.encode()).hexdigest()\n",
    "    cursor.execute(\"SELECT user_id FROM users WHERE username = %s AND password = %s\", (username, hashed_password))\n",
    "    result = cursor.fetchone()\n",
    "    cursor.close()\n",
    "    connection.close()\n",
    "    if result:\n",
    "        return result[0]  \n",
    "    return None\n",
    "\n",
    "def store_conversation(user_id, user_input, bot_response, emotion):\n",
    "    connection = get_db_connection()\n",
    "    cursor = connection.cursor()\n",
    "    cursor.execute(\"INSERT INTO chat_logs (user_id, user_input, bot_response, emotion) VALUES (%s, %s, %s, %s)\",\n",
    "                   (user_id, user_input, bot_response, emotion))\n",
    "    connection.commit()\n",
    "    cursor.close()\n",
    "    connection.close()\n",
    "\n",
    "def get_conversation_history(user_id):\n",
    "    connection = get_db_connection()\n",
    "    cursor = connection.cursor()\n",
    "    cursor.execute(\"SELECT user_input, bot_response FROM chat_logs WHERE user_id = %s ORDER BY id ASC\", (user_id,))\n",
    "    result = cursor.fetchall()\n",
    "    cursor.close()\n",
    "    connection.close()\n",
    "    return result\n"
   ]
  },
  {
   "cell_type": "markdown",
   "id": "0582d436",
   "metadata": {},
   "source": [
    "Groq Integration"
   ]
  },
  {
   "cell_type": "code",
   "execution_count": 7,
   "id": "0e67466a",
   "metadata": {},
   "outputs": [],
   "source": [
    "# Initialize Groq client\n",
    "api_key = \"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\"\n",
    "client = Groq(api_key=api_key)\n",
    "\n",
    "# Generating response using Groq API\n",
    "def generate_response(prompt, api_key):\n",
    "    chat_completion = client.chat.completions.create(\n",
    "        messages=[\n",
    "            {\n",
    "                \"role\": \"user\",\n",
    "                \"content\": prompt,\n",
    "            }\n",
    "        ],\n",
    "        model=\"llama3-70b-8192\"\n",
    "    )\n",
    "    return chat_completion.choices[0].message.content\n",
    "\n",
    "# Create emotional response function\n",
    "def create_emotional_response(user_input, api_key, user_id):\n",
    "    detected_emotion = predict_emotion(user_input, tokenizer, model)\n",
    "    \n",
    "    # Fetch conversation history\n",
    "    conversation_history = get_conversation_history(user_id)\n",
    "    \n",
    "    # Formulate the prompt with history\n",
    "    prompt = \"\"\n",
    "    for user_msg, bot_resp in conversation_history:\n",
    "        prompt += f\"User: {user_msg}\\nBot: {bot_resp}\\n\"\n",
    "    prompt += f\"User: {user_input}\\nBot:\"\n",
    "    \n",
    "    bot_response = generate_response(prompt, api_key)\n",
    "    store_conversation(user_id, user_input, bot_response, detected_emotion)\n",
    "    return bot_response\n"
   ]
  },
  {
   "cell_type": "code",
   "execution_count": null,
   "id": "448f9050",
   "metadata": {},
   "outputs": [],
   "source": [
    "username = input(\"Enter username: \")\n",
    "password = getpass(\"Enter password: \")\n",
    "create_user(username, password)\n",
    "print(\"User registered successfully\")\n",
    "\n"
   ]
  },
  {
   "cell_type": "code",
   "execution_count": 8,
   "id": "a8aabfee",
   "metadata": {},
   "outputs": [
    {
     "name": "stdout",
     "output_type": "stream",
     "text": [
      "Enter username: Ved\n",
      "Enter password: ········\n",
      "Login successful\n",
      "Enter your message (or type 'exit' to end): I am feeling sad\n",
      "1/1 [==============================] - 0s 497ms/step\n",
      "Bot response: I'm so sorry to hear that you're feeling sad. It can be really tough to deal with difficult emotions. Would you like to talk about what's going on and how you're feeling? Sometimes sharing what's on your mind can help you feel a bit better. I'm here to listen and offer support if you need it.\n",
      "Enter your message (or type 'exit' to end): I lost my job\n",
      "1/1 [==============================] - 0s 19ms/step\n",
      "Bot response: Oh no, I'm so sorry to hear that you lost your job. That can be a really tough and stressful experience. It's normal to feel sad, angry, or frustrated when something like that happens. It's okay to feel those emotions and take time to process them.\n",
      "\n",
      "Can you tell me a bit more about what happened? Was it sudden or was it something you saw coming? How are you feeling about the whole situation?\n",
      "\n",
      "Remember, I'm here to listen and offer support. Sometimes talking about it can help you feel a bit better and give you some clarity on what to do next.\n",
      "Enter your message (or type 'exit' to end): exit\n",
      "Conversation ended.\n"
     ]
    }
   ],
   "source": [
    "username = input(\"Enter username: \")\n",
    "password = getpass(\"Enter password: \")\n",
    "user_id = authenticate_user(username, password)\n",
    "if user_id:\n",
    "    print(\"Login successful\")\n",
    "else:\n",
    "    print(\"Invalid credentials\")\n",
    "\n",
    "if user_id:\n",
    "    while True:\n",
    "        user_input = input(\"Enter your message (or type 'exit' to end): \")\n",
    "        if user_input.lower() == 'exit':\n",
    "            print(\"Conversation ended.\")\n",
    "            break\n",
    "        response = create_emotional_response(user_input, api_key, user_id)\n",
    "        print(\"Bot response:\", response)\n",
    "else:\n",
    "    print(\"Please login first\")\n"
   ]
  },
  {
   "cell_type": "code",
   "execution_count": null,
   "id": "199746db",
   "metadata": {},
   "outputs": [],
   "source": []
  }
 ],
 "metadata": {
  "kernelspec": {
   "display_name": "Python 3 (ipykernel)",
   "language": "python",
   "name": "python3"
  },
  "language_info": {
   "codemirror_mode": {
    "name": "ipython",
    "version": 3
   },
   "file_extension": ".py",
   "mimetype": "text/x-python",
   "name": "python",
   "nbconvert_exporter": "python",
   "pygments_lexer": "ipython3",
   "version": "3.10.13"
  }
 },
 "nbformat": 4,
 "nbformat_minor": 5
}
